{
 "cells": [
  {
   "cell_type": "code",
   "execution_count": 18,
   "metadata": {
    "collapsed": false
   },
   "outputs": [],
   "source": [
    "#Define card class\n",
    "\n",
    "class Card(object):\n",
    "    def __init__(self,suite,cardName,cardValue,dealt):\n",
    "        self.suite=suite\n",
    "        self.cardName=cardName\n",
    "        self.cardValue=cardValue\n",
    "        self.dealt=dealt\n",
    "        \n",
    "        #print('New Card')\n",
    "        \n",
    "    def getSuite(self):\n",
    "        return self.suite\n",
    "    \n",
    "    def setSuite(self,suite):\n",
    "        self.suite=suite\n",
    "        \n",
    "    def getCardName(self):\n",
    "        return self.cardName\n",
    "    \n",
    "    def getCardValue(self):\n",
    "        return self.cardValue\n",
    "    \n",
    "    def getDealt(self):\n",
    "        return self.dealt\n",
    "    \n",
    "    def setDealt(self,dealt=True):\n",
    "        self.dealt=dealt\n",
    "        "
   ]
  },
  {
   "cell_type": "code",
   "execution_count": 7,
   "metadata": {
    "collapsed": false
   },
   "outputs": [],
   "source": [
    "def onePlayerTable():\n",
    "        \n",
    "        \n",
    "        \n",
    "        print('___________________________________________________________________________________')\n",
    "        print('|                                                                                  |')\n",
    "        print('| Player One Hand:                                                                 |')\n",
    "        print('|__________________________________________________________________________________|')\n",
    "        print('___________________________________________________________________________________')\n",
    "        print('|                                                                                  |')\n",
    "        print('| Dealer Hand:                                                                     |')\n",
    "        print('|__________________________________________________________________________________|')\n"
   ]
  },
  {
   "cell_type": "code",
   "execution_count": 8,
   "metadata": {
    "collapsed": false
   },
   "outputs": [
    {
     "name": "stdout",
     "output_type": "stream",
     "text": [
      "___________________________________________________________________________________\n",
      "|                                                                                  |\n",
      "| Player One Hand:                                                                 |\n",
      "|__________________________________________________________________________________|\n",
      "___________________________________________________________________________________\n",
      "|                                                                                  |\n",
      "| Dealer Hand:                                                                     |\n",
      "|__________________________________________________________________________________|\n"
     ]
    }
   ],
   "source": [
    "onePlayerTable()"
   ]
  },
  {
   "cell_type": "code",
   "execution_count": null,
   "metadata": {
    "collapsed": true
   },
   "outputs": [],
   "source": []
  },
  {
   "cell_type": "raw",
   "metadata": {},
   "source": []
  },
  {
   "cell_type": "code",
   "execution_count": 44,
   "metadata": {
    "collapsed": true
   },
   "outputs": [],
   "source": [
    "def printDeckOfCards():\n",
    "    for i in range(1,52):\n",
    "        print(deck[i].getSuite()+' '+deck[i].getCardName()+' '+str(deck[i].getCardValue())+' '+str(deck[i].getDealt()))"
   ]
  },
  {
   "cell_type": "code",
   "execution_count": 47,
   "metadata": {
    "collapsed": false
   },
   "outputs": [],
   "source": [
    "def setDeckOfCards():\n",
    "        for suiteName in ('Diamonds','Hearts','Spades','Clubs'):\n",
    "            deck.append(Card(suite=suiteName,cardName='Ace',cardValue=11,dealt=0))\n",
    "            deck.append(Card(suite=suiteName,cardName='Two',cardValue=2,dealt=0))\n",
    "            deck.append(Card(suite=suiteName,cardName='Three',cardValue=3,dealt=0))\n",
    "            deck.append(Card(suite=suiteName,cardName='Four',cardValue=4,dealt=0))\n",
    "            deck.append(Card(suite=suiteName,cardName='Five',cardValue=5,dealt=0))\n",
    "            deck.append(Card(suite=suiteName,cardName='Six',cardValue=6,dealt=0))\n",
    "            deck.append(Card(suite=suiteName,cardName='Seven',cardValue=7,dealt=0))\n",
    "            deck.append(Card(suite=suiteName,cardName='Eight',cardValue=8,dealt=0))\n",
    "            deck.append(Card(suite=suiteName,cardName='Nine',cardValue=9,dealt=0))\n",
    "            deck.append(Card(suite=suiteName,cardName='10',cardValue=3,dealt=0))\n",
    "            deck.append(Card(suite=suiteName,cardName='Jack',cardValue=10,dealt=0))\n",
    "            deck.append(Card(suite=suiteName,cardName='Queen',cardValue=10,dealt=0))\n",
    "            deck.append(Card(suite=suiteName,cardName='King',cardValue=10,dealt=0))\n",
    "        \n",
    "        return deck\n",
    "    \n",
    "    \n",
    "            \n"
   ]
  },
  {
   "cell_type": "code",
   "execution_count": 12,
   "metadata": {
    "collapsed": false
   },
   "outputs": [
    {
     "data": {
      "text/plain": [
       "52"
      ]
     },
     "execution_count": 12,
     "metadata": {},
     "output_type": "execute_result"
    }
   ],
   "source": [
    "len(deck)"
   ]
  },
  {
   "cell_type": "code",
   "execution_count": 25,
   "metadata": {
    "collapsed": false
   },
   "outputs": [],
   "source": [
    "for i in range(0,52):\n",
    "    print(deck[i].getSuite()+' '+deck[i].getCardName()+' '+str(deck[i].getCardValue())+' '+str(deck[i].getDealt()))\n",
    "\n",
    "clear_output()"
   ]
  },
  {
   "cell_type": "code",
   "execution_count": 25,
   "metadata": {
    "collapsed": true
   },
   "outputs": [],
   "source": [
    "deck[51].setDealt(True)"
   ]
  },
  {
   "cell_type": "code",
   "execution_count": 26,
   "metadata": {
    "collapsed": false
   },
   "outputs": [
    {
     "name": "stdout",
     "output_type": "stream",
     "text": [
      "True\n"
     ]
    }
   ],
   "source": [
    "print(deck[51].getDealt())"
   ]
  },
  {
   "cell_type": "code",
   "execution_count": 28,
   "metadata": {
    "collapsed": false
   },
   "outputs": [
    {
     "name": "stdout",
     "output_type": "stream",
     "text": [
      "28\n"
     ]
    }
   ],
   "source": [
    "from random import randint\n",
    "print(randint(1,52))"
   ]
  },
  {
   "cell_type": "code",
   "execution_count": 30,
   "metadata": {
    "collapsed": false
   },
   "outputs": [
    {
     "name": "stdout",
     "output_type": "stream",
     "text": [
      "32\n"
     ]
    }
   ],
   "source": [
    "print(randint(1,52))"
   ]
  },
  {
   "cell_type": "code",
   "execution_count": 40,
   "metadata": {
    "collapsed": false
   },
   "outputs": [
    {
     "name": "stdout",
     "output_type": "stream",
     "text": [
      "Queen of Spades 10\n"
     ]
    }
   ],
   "source": [
    "x=randint(0,51)\n",
    "print(deck[x].getCardName()+' of '+deck[x].getSuite()+' '+str(deck[x].getCardValue()))"
   ]
  },
  {
   "cell_type": "markdown",
   "metadata": {},
   "source": [
    "## The Player class has: a hand=collection of cards\n",
    "##  Methods: hitMe() - new Card\n",
    "##                   checkForBust() = <=21\n",
    "##  "
   ]
  },
  {
   "cell_type": "code",
   "execution_count": 43,
   "metadata": {
    "collapsed": false
   },
   "outputs": [
    {
     "ename": "SyntaxError",
     "evalue": "invalid syntax (<ipython-input-43-de1bc29e6634>, line 20)",
     "output_type": "error",
     "traceback": [
      "\u001b[0;36m  File \u001b[0;32m\"<ipython-input-43-de1bc29e6634>\"\u001b[0;36m, line \u001b[0;32m20\u001b[0m\n\u001b[0;31m    self.playerStatus=\u001b[0m\n\u001b[0m                      ^\u001b[0m\n\u001b[0;31mSyntaxError\u001b[0m\u001b[0;31m:\u001b[0m invalid syntax\n"
     ]
    }
   ],
   "source": [
    "from random import randint\n",
    "\n",
    "#x=randint(1,51)-1\n",
    "\n",
    "class Player(object):\n",
    "    def __init__(self,hand,playerNumber,playerStatus='Alive',hand):\n",
    "        self.hand=hand\n",
    "        self.playerNumber=playerNumber\n",
    "        self.playerStatus=playerStatus\n",
    "        self.handhand\n",
    "        \n",
    "        \n",
    "        \n",
    "        \n",
    "        \n",
    "    def getCardFromDeck(self):\n",
    "        \n",
    "        return card.getCardName()\n",
    "    \n",
    "    def getPlayerNumber(self):\n",
    "        return playerNumber\n",
    "    \n",
    "       \n",
    "    def checkForBust(self,hand):\n",
    "        if(sum(self.hand)>21):\n",
    "            return self.playerStatus='Bust!!'\n",
    "        \n",
    "    \n",
    "        \n",
    "    \n",
    "    \n",
    "        \n",
    "        \n",
    "        \n",
    "        \n",
    "        "
   ]
  },
  {
   "cell_type": "code",
   "execution_count": null,
   "metadata": {
    "collapsed": true
   },
   "outputs": [],
   "source": [
    "classs Hand(object,card):\n",
    "    def __init(self,card):\n",
    "        self.card\n",
    "        \n",
    "    def setCard(object):\n",
    "        if card.getDealt==True:\n",
    "            return \n",
    "            \n",
    "        \n",
    "        \n",
    "        \n",
    "        \n",
    "            \n",
    "    "
   ]
  },
  {
   "cell_type": "code",
   "execution_count": 37,
   "metadata": {
    "collapsed": true
   },
   "outputs": [],
   "source": [
    "list=[1,2,3]\n",
    "sumOfList=sum(list)"
   ]
  },
  {
   "cell_type": "code",
   "execution_count": 38,
   "metadata": {
    "collapsed": false
   },
   "outputs": [
    {
     "data": {
      "text/plain": [
       "6"
      ]
     },
     "execution_count": 38,
     "metadata": {},
     "output_type": "execute_result"
    }
   ],
   "source": [
    "sumOfList"
   ]
  },
  {
   "cell_type": "code",
   "execution_count": 33,
   "metadata": {
    "collapsed": false
   },
   "outputs": [],
   "source": [
    "from random import randint\n",
    "x=randint(1,52)\n",
    "player1=Player(card=deck[x].getCardName(),playerNumber=1)"
   ]
  },
  {
   "cell_type": "markdown",
   "metadata": {},
   "source": [
    "print(player1.getCardName())"
   ]
  },
  {
   "cell_type": "raw",
   "metadata": {},
   "source": []
  },
  {
   "cell_type": "raw",
   "metadata": {},
   "source": []
  },
  {
   "cell_type": "code",
   "execution_count": 34,
   "metadata": {
    "collapsed": false
   },
   "outputs": [
    {
     "ename": "NameError",
     "evalue": "name 'card' is not defined",
     "output_type": "error",
     "traceback": [
      "\u001b[0;31m---------------------------------------------------------------------------\u001b[0m",
      "\u001b[0;31mNameError\u001b[0m                                 Traceback (most recent call last)",
      "\u001b[0;32m<ipython-input-34-adef30e69600>\u001b[0m in \u001b[0;36m<module>\u001b[0;34m()\u001b[0m\n\u001b[0;32m----> 1\u001b[0;31m \u001b[0mprint\u001b[0m\u001b[1;33m(\u001b[0m\u001b[0mplayer1\u001b[0m\u001b[1;33m.\u001b[0m\u001b[0mgetCardName\u001b[0m\u001b[1;33m(\u001b[0m\u001b[1;33m)\u001b[0m\u001b[1;33m)\u001b[0m\u001b[1;33m\u001b[0m\u001b[0m\n\u001b[0m",
      "\u001b[0;32m<ipython-input-28-de0114216356>\u001b[0m in \u001b[0;36mgetCardName\u001b[0;34m(self)\u001b[0m\n\u001b[1;32m      8\u001b[0m         \u001b[0mself\u001b[0m\u001b[1;33m.\u001b[0m\u001b[0mplayerNumber\u001b[0m\u001b[1;33m=\u001b[0m\u001b[0mplayerNumber\u001b[0m\u001b[1;33m\u001b[0m\u001b[0m\n\u001b[1;32m      9\u001b[0m     \u001b[1;32mdef\u001b[0m \u001b[0mgetCardName\u001b[0m\u001b[1;33m(\u001b[0m\u001b[0mself\u001b[0m\u001b[1;33m)\u001b[0m\u001b[1;33m:\u001b[0m\u001b[1;33m\u001b[0m\u001b[0m\n\u001b[0;32m---> 10\u001b[0;31m         \u001b[1;32mreturn\u001b[0m \u001b[0mcard\u001b[0m\u001b[1;33m.\u001b[0m\u001b[0mgetCardName\u001b[0m\u001b[1;33m(\u001b[0m\u001b[1;33m)\u001b[0m\u001b[1;33m\u001b[0m\u001b[0m\n\u001b[0m\u001b[1;32m     11\u001b[0m \u001b[1;33m\u001b[0m\u001b[0m\n\u001b[1;32m     12\u001b[0m     \u001b[1;32mdef\u001b[0m \u001b[0mgetPlayerNumber\u001b[0m\u001b[1;33m(\u001b[0m\u001b[0mself\u001b[0m\u001b[1;33m)\u001b[0m\u001b[1;33m:\u001b[0m\u001b[1;33m\u001b[0m\u001b[0m\n",
      "\u001b[0;31mNameError\u001b[0m: name 'card' is not defined"
     ]
    }
   ],
   "source": [
    "print(player1.getCardName())\n"
   ]
  },
  {
   "cell_type": "code",
   "execution_count": 45,
   "metadata": {
    "collapsed": false
   },
   "outputs": [
    {
     "name": "stdout",
     "output_type": "stream",
     "text": [
      "27\n"
     ]
    }
   ],
   "source": [
    "\n",
    "from random import randint\n",
    "x=randint(0,51)\n",
    "print(x)"
   ]
  },
  {
   "cell_type": "code",
   "execution_count": 57,
   "metadata": {
    "collapsed": true
   },
   "outputs": [],
   "source": [
    "hand=[]"
   ]
  },
  {
   "cell_type": "code",
   "execution_count": 58,
   "metadata": {
    "collapsed": false
   },
   "outputs": [
    {
     "name": "stdout",
     "output_type": "stream",
     "text": [
      "Two of Spades value=2\n"
     ]
    },
    {
     "data": {
      "text/plain": [
       "9"
      ]
     },
     "execution_count": 58,
     "metadata": {},
     "output_type": "execute_result"
    }
   ],
   "source": [
    "print(deck[x].getCardName()+' of '+deck[x].getSuite()+' value='+str(deck[x].getCardValue()))\n",
    "hand.append(deck[x].getCardValue())\n",
    "9"
   ]
  },
  {
   "cell_type": "code",
   "execution_count": 59,
   "metadata": {
    "collapsed": false
   },
   "outputs": [
    {
     "data": {
      "text/plain": [
       "'Two'"
      ]
     },
     "execution_count": 59,
     "metadata": {},
     "output_type": "execute_result"
    }
   ],
   "source": [
    "deck[x].getCardName()"
   ]
  },
  {
   "cell_type": "code",
   "execution_count": 60,
   "metadata": {
    "collapsed": false
   },
   "outputs": [
    {
     "data": {
      "text/plain": [
       "2"
      ]
     },
     "execution_count": 60,
     "metadata": {},
     "output_type": "execute_result"
    }
   ],
   "source": [
    "deck[x].getCardValue()"
   ]
  },
  {
   "cell_type": "code",
   "execution_count": 76,
   "metadata": {
    "collapsed": true
   },
   "outputs": [],
   "source": [
    "hand=[]"
   ]
  },
  {
   "cell_type": "code",
   "execution_count": 83,
   "metadata": {
    "collapsed": true
   },
   "outputs": [],
   "source": [
    "hand.append(deck[0].getCardValue())"
   ]
  },
  {
   "cell_type": "code",
   "execution_count": 84,
   "metadata": {
    "collapsed": false
   },
   "outputs": [
    {
     "data": {
      "text/plain": [
       "3"
      ]
     },
     "execution_count": 84,
     "metadata": {},
     "output_type": "execute_result"
    }
   ],
   "source": [
    "len(hand)"
   ]
  },
  {
   "cell_type": "code",
   "execution_count": 71,
   "metadata": {
    "collapsed": false
   },
   "outputs": [
    {
     "data": {
      "text/plain": [
       "2"
      ]
     },
     "execution_count": 71,
     "metadata": {},
     "output_type": "execute_result"
    }
   ],
   "source": [
    "deck[x].getCardValue()"
   ]
  },
  {
   "cell_type": "code",
   "execution_count": 72,
   "metadata": {
    "collapsed": false
   },
   "outputs": [
    {
     "data": {
      "text/plain": [
       "3"
      ]
     },
     "execution_count": 72,
     "metadata": {},
     "output_type": "execute_result"
    }
   ],
   "source": [
    "deck[x+1].getCardValue()"
   ]
  },
  {
   "cell_type": "code",
   "execution_count": 85,
   "metadata": {
    "collapsed": false
   },
   "outputs": [
    {
     "data": {
      "text/plain": [
       "16"
      ]
     },
     "execution_count": 85,
     "metadata": {},
     "output_type": "execute_result"
    }
   ],
   "source": [
    "sum(hand)"
   ]
  },
  {
   "cell_type": "code",
   "execution_count": 82,
   "metadata": {
    "collapsed": false
   },
   "outputs": [],
   "source": [
    "player1=Player(deck[x],1)"
   ]
  },
  {
   "cell_type": "code",
   "execution_count": null,
   "metadata": {
    "collapsed": true
   },
   "outputs": [],
   "source": [
    "player1"
   ]
  },
  {
   "cell_type": "code",
   "execution_count": 51,
   "metadata": {
    "collapsed": false
   },
   "outputs": [],
   "source": [
    "def getRandomCard():\n",
    "    from random import randint\n",
    "    x=randint(0,51)\n",
    "    print(x)"
   ]
  },
  {
   "cell_type": "code",
   "execution_count": 55,
   "metadata": {
    "collapsed": false
   },
   "outputs": [
    {
     "name": "stdout",
     "output_type": "stream",
     "text": [
      "end of Exception Handling Block\n",
      "33\n"
     ]
    },
    {
     "ename": "TypeError",
     "evalue": "list indices must be integers or slices, not NoneType",
     "output_type": "error",
     "traceback": [
      "\u001b[1;31m---------------------------------------------------------------------------\u001b[0m",
      "\u001b[1;31mTypeError\u001b[0m                                 Traceback (most recent call last)",
      "\u001b[1;32m<ipython-input-55-c21ec5b10480>\u001b[0m in \u001b[0;36m<module>\u001b[1;34m()\u001b[0m\n\u001b[0;32m     17\u001b[0m \u001b[0mx\u001b[0m\u001b[1;33m=\u001b[0m\u001b[0mgetRandomCard\u001b[0m\u001b[1;33m(\u001b[0m\u001b[1;33m)\u001b[0m\u001b[1;33m\u001b[0m\u001b[0m\n\u001b[0;32m     18\u001b[0m \u001b[1;33m\u001b[0m\u001b[0m\n\u001b[1;32m---> 19\u001b[1;33m \u001b[1;32mif\u001b[0m \u001b[0mdeck\u001b[0m\u001b[1;33m[\u001b[0m\u001b[0mx\u001b[0m\u001b[1;33m]\u001b[0m\u001b[1;33m.\u001b[0m\u001b[0mgetDealt\u001b[0m\u001b[1;33m(\u001b[0m\u001b[1;33m)\u001b[0m\u001b[1;33m==\u001b[0m\u001b[1;32mTrue\u001b[0m\u001b[1;33m:\u001b[0m\u001b[1;33m\u001b[0m\u001b[0m\n\u001b[0m\u001b[0;32m     20\u001b[0m     \u001b[0mdeck\u001b[0m\u001b[1;33m[\u001b[0m\u001b[0mx\u001b[0m\u001b[1;33m]\u001b[0m\u001b[1;33m.\u001b[0m\u001b[0msetDealt\u001b[0m\u001b[1;33m(\u001b[0m\u001b[0mdealt\u001b[0m\u001b[1;33m=\u001b[0m\u001b[1;32mFalse\u001b[0m\u001b[1;33m)\u001b[0m\u001b[1;33m\u001b[0m\u001b[0m\n\u001b[0;32m     21\u001b[0m     \u001b[1;31m#Add Code to add the Card to player Hand and Caclulate total\u001b[0m\u001b[1;33m\u001b[0m\u001b[1;33m\u001b[0m\u001b[0m\n",
      "\u001b[1;31mTypeError\u001b[0m: list indices must be integers or slices, not NoneType"
     ]
    }
   ],
   "source": [
    "#Main\n",
    "#Create Cards and Deck\n",
    "from IPython.display import clear_output\n",
    "deck=[]\n",
    "\n",
    "clear_output()\n",
    "try:\n",
    "    deck=setDeckOfCards()\n",
    "except:\n",
    "    print('Error check that card and deck are run and in memeory')\n",
    "finally:\n",
    "    print('end of Exception Handling Block')\n",
    "\n",
    "#for i in range(0,52):\n",
    "#    print(deck[i].getSuite()+' '+deck[i].getCardName()+' '+str(deck[i].getCardValue())+' '+str(deck[i].getDealt()))\n",
    "\n",
    "x=getRandomCard()\n",
    "\n",
    "if deck[x].getDealt()==0:\n",
    "    deck[x].setDealt(dealt=1)\n",
    "    #Add Code to add the Card to player Hand and Caclulate total\n",
    " \n",
    "for i in range(0,52):\n",
    "    print(deck[i].getSuite()+' '+deck[i].getCardName()+' '+str(deck[i].getCardValue())+' '+str(deck[i].getDealt()))   \n",
    "\n",
    "\n",
    "\n",
    "\n"
   ]
  },
  {
   "cell_type": "code",
   "execution_count": null,
   "metadata": {
    "collapsed": true
   },
   "outputs": [],
   "source": []
  }
 ],
 "metadata": {
  "anaconda-cloud": {},
  "kernelspec": {
   "display_name": "Python [Root]",
   "language": "python",
   "name": "Python [Root]"
  },
  "language_info": {
   "codemirror_mode": {
    "name": "ipython",
    "version": 3
   },
   "file_extension": ".py",
   "mimetype": "text/x-python",
   "name": "python",
   "nbconvert_exporter": "python",
   "pygments_lexer": "ipython3",
   "version": "3.5.2"
  }
 },
 "nbformat": 4,
 "nbformat_minor": 0
}
