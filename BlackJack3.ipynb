{
 "cells": [
  {
   "cell_type": "code",
   "execution_count": 5,
   "metadata": {
    "collapsed": false
   },
   "outputs": [],
   "source": [
    "#Define card class\n",
    "\n",
    "class Card(object):\n",
    "    def __init__(self,suite,cardName,cardValue,dealt=0):\n",
    "        self.suite=suite\n",
    "        self.cardName=cardName\n",
    "        self.cardValue=cardValue\n",
    "        self.dealt=dealt\n",
    "        \n",
    "        \n",
    "        \n",
    "        \n",
    "        #print('New Card')\n",
    "        \n",
    "    def getSuite(self):\n",
    "        return self.suite\n",
    "    \n",
    "    def setSuite(self,suite):\n",
    "        self.suite=suite\n",
    "        \n",
    "    def getCardName(self):\n",
    "        return self.cardName\n",
    "    \n",
    "    def getCardValue(self):\n",
    "        return self.cardValue\n",
    "    \n",
    "    def getDealt(self):\n",
    "        return self.dealt\n",
    "    \n",
    "    def setDealt(self,dealt=1):\n",
    "        self.dealt=dealt\n",
    "        \n",
    "    def makeBet(self,amount):\n",
    "        self.balance=self.balance-amount\n",
    "        return\n",
    "    \n",
    "def onePlayerTable():\n",
    "        \n",
    "        \n",
    "        \n",
    "        print('___________________________________________________________________________________')\n",
    "        print('|                                                                                  |')\n",
    "        print('| Player One Hand:                                                                 |')\n",
    "        print('|__________________________________________________________________________________|')\n",
    "        print('___________________________________________________________________________________')\n",
    "        print('|                                                                                  |')\n",
    "        print('| Dealer Hand:                                                                     |')\n",
    "        print('|__________________________________________________________________________________|')\n",
    "\n",
    "def printDeckOfCards():\n",
    "    for i in range(1,52):\n",
    "        print(deck[i].getSuite()+' '+deck[i].getCardName()+' '+str(deck[i].getCardValue())+' '+str(deck[i].getDealt()))\n",
    "\n",
    "def setDeckOfCards():\n",
    "    deck=[]\n",
    "    for suiteName in ('Diamonds','Hearts','Spades','Clubs'):\n",
    "        deck.append(Card(suite=suiteName,cardName='Ace',cardValue=11,dealt=0))\n",
    "        deck.append(Card(suite=suiteName,cardName='Two',cardValue=2,dealt=0))\n",
    "        deck.append(Card(suite=suiteName,cardName='Three',cardValue=3,dealt=0))\n",
    "        deck.append(Card(suite=suiteName,cardName='Four',cardValue=4,dealt=0))\n",
    "        deck.append(Card(suite=suiteName,cardName='Five',cardValue=5,dealt=0))\n",
    "        deck.append(Card(suite=suiteName,cardName='Six',cardValue=6,dealt=0))\n",
    "        deck.append(Card(suite=suiteName,cardName='Seven',cardValue=7,dealt=0))\n",
    "        deck.append(Card(suite=suiteName,cardName='Eight',cardValue=8,dealt=0))\n",
    "        deck.append(Card(suite=suiteName,cardName='Nine',cardValue=9,dealt=0))\n",
    "        deck.append(Card(suite=suiteName,cardName='10',cardValue=3,dealt=0))\n",
    "        deck.append(Card(suite=suiteName,cardName='Jack',cardValue=10,dealt=0))\n",
    "        deck.append(Card(suite=suiteName,cardName='Queen',cardValue=10,dealt=0))\n",
    "        deck.append(Card(suite=suiteName,cardName='King',cardValue=10,dealt=0))\n",
    "        \n",
    "    return deck\n",
    "    \n",
    "from random import randint\n",
    "\n",
    "#\n",
    "\n",
    "class Player(object):\n",
    "    def __init__(self,playerNumber=1,playerStatus='Alive',hand=[],balance=100):\n",
    "        self.playerNumber=playerNumber\n",
    "        self.playerStatus=playerStatus\n",
    "        self.hand=hand\n",
    "        self.balance=balance\n",
    "        \n",
    "        \n",
    "        \n",
    "        \n",
    "        \n",
    "        \n",
    "   \n",
    "    def getPlayerNumber(self):\n",
    "        return self.playerNumberNumber\n",
    "    \n",
    "    def getPlayerStatus(self):\n",
    "        if sum(sef.hand)>21:\n",
    "            prind('Bust')\n",
    "            return('Game Over, you lose player'+getPlayerNumber())\n",
    "        \n",
    "    \n",
    "    def addToHand(self,card):\n",
    "        self.hand.append(card)\n",
    "        #print(card.getCardValue())\n",
    "        # return card\n",
    "    \n",
    "    def getHand(self):\n",
    "        return self.hand\n",
    "    \n",
    "    def getHandValue(self):\n",
    "        total=0\n",
    "        hand=0\n",
    "        for i in self.hand:\n",
    "            total=self.hand[i].getCardValue()\n",
    "            print('The value of the hand is '+total)\n",
    "        return total\n",
    "    \n",
    "    def printHand(self):\n",
    "         \n",
    "        for i in hand:\n",
    "            print(hand[i])\n",
    "    \n",
    "    def makeBet(self,betAmount):\n",
    "        betValue=input('How much is your bet player'+self.getPlayerNumber())\n",
    "        print('The bet value is '+betAmount)\n",
    "        self.balance=self.balance-betAmount\n",
    "        return betAmount\n",
    "\n",
    "\n",
    "    \n",
    "    \n",
    "class Hand(object):\n",
    "    def __init__(self,hand):\n",
    "        self.hand=hand\n",
    "        \n",
    "        \n",
    "        \n",
    "    def getHandLength(self):\n",
    "        length=len(self.hand)\n",
    "        return(length)\n",
    "    \n",
    "    def getHandValue(self):\n",
    "        i=0\n",
    "        total=0\n",
    "            \n",
    "        while i < self.getHandLength():\n",
    "            total=total+self.hand[i].getCardValue()\n",
    "            i=i+1\n",
    "        return(total)\n",
    "    \n",
    "    \n",
    "    \n",
    "        \n",
    "    def addCard(self,card):\n",
    "        self.hand.append(card)\n",
    "        return(self.hand)\n",
    "\n",
    "        \n",
    "        \n",
    "    def setCard(self):\n",
    "        while card.getDealt()==1:\n",
    "            x=getRandomCardNumber()        \n",
    "        return self.hand\n",
    "    \n",
    "\n",
    "    \n",
    "\n",
    "def getRandomCardNumber():\n",
    "    from random import randint\n",
    "    x=randint(0,51)\n",
    "    return(x)\n",
    "\n",
    "\n",
    "class Dealer(Player):\n",
    "    from random import randint\n",
    "    import random\n",
    "    \n",
    " \n",
    "    def __init__(self,deck):\n",
    "        Player.__init__(self,playerNumber=1,playerStatus='Alive',hand=[],balance=100000)\n",
    "        \n",
    "        self.deck=deck\n",
    "        \n",
    "    \n",
    "        \n",
    "    \n",
    "    def dealCard(self):\n",
    "        from time import sleep\n",
    "        from random import randrange\n",
    "        \n",
    "        firstDelay=randrange(1,10,1)\n",
    "        sleep(firstDelay)\n",
    "        x=random.randrange(0,51,1)\n",
    "        while self.deck[x].getDealt()==1:\n",
    "            delay=random.randrange(1,10,1)\n",
    "            sleep(delay)\n",
    "            x=random.randrange(0,51,1)\n",
    "            print('Random number is '+str(x))\n",
    "            \n",
    "    \n",
    "        deck[x].setDealt()    \n",
    "        return(x)\n",
    "    \n",
    "   \n",
    "#class Dog(Pet):\n",
    "\n",
    "#    def __init__(self, name, chases_cats):\n",
    "#        Pet.__init__(self, name, \"Dog\")\n",
    "#        self.chases_cats = chases_cats\n",
    "\n",
    "#    def chasesCats(self):\n",
    "#        return self.chases_cats\n",
    "  \n",
    "    \n",
    "class Dealer_old(object):\n",
    "    from random import randint\n",
    "    from random import randrange\n",
    " \n",
    "    def __init__(self,deck):\n",
    "        \n",
    "        self.deck=deck\n",
    "        \n",
    "    \n",
    "        \n",
    "    \n",
    "    def dealCard(self):\n",
    "        from random import randint\n",
    "        from random import randrange\n",
    "        \n",
    "        from time import sleep\n",
    "        \n",
    "        \n",
    "        sleep(2)\n",
    "        x=randrange(0,51,1)\n",
    "        while self.deck[x].getDealt()==1:\n",
    "            sleep(2)\n",
    "            x=randrange(0,51,1)\n",
    "            print('Random number x is '+x)\n",
    "    \n",
    "        deck[x].setDealt()    \n",
    "        return(x)    \n",
    "        \n",
    "        \n",
    "        \n",
    "            \n",
    "        \n",
    "    \n",
    "        \n",
    "    \n",
    "    "
   ]
  },
  {
   "cell_type": "code",
   "execution_count": 37,
   "metadata": {
    "collapsed": false
   },
   "outputs": [
    {
     "ename": "KeyboardInterrupt",
     "evalue": "",
     "output_type": "error",
     "traceback": [
      "\u001b[0;31m---------------------------------------------------------------------------\u001b[0m",
      "\u001b[0;31mKeyboardInterrupt\u001b[0m                         Traceback (most recent call last)",
      "\u001b[0;32m<ipython-input-37-591dcc100777>\u001b[0m in \u001b[0;36m<module>\u001b[0;34m()\u001b[0m\n\u001b[1;32m     13\u001b[0m \u001b[1;33m\u001b[0m\u001b[0m\n\u001b[1;32m     14\u001b[0m \u001b[1;32mwhile\u001b[0m \u001b[0mi\u001b[0m\u001b[1;33m<\u001b[0m\u001b[1;36m2\u001b[0m\u001b[1;33m:\u001b[0m\u001b[1;33m\u001b[0m\u001b[0m\n\u001b[0;32m---> 15\u001b[0;31m     \u001b[0mx\u001b[0m\u001b[1;33m=\u001b[0m\u001b[0mdealer\u001b[0m\u001b[1;33m.\u001b[0m\u001b[0mdealCard\u001b[0m\u001b[1;33m(\u001b[0m\u001b[1;33m)\u001b[0m\u001b[1;33m\u001b[0m\u001b[0m\n\u001b[0m\u001b[1;32m     16\u001b[0m     \u001b[0my\u001b[0m\u001b[1;33m=\u001b[0m\u001b[0mdealer\u001b[0m\u001b[1;33m.\u001b[0m\u001b[0mdealCard\u001b[0m\u001b[1;33m(\u001b[0m\u001b[1;33m)\u001b[0m\u001b[1;33m\u001b[0m\u001b[0m\n\u001b[1;32m     17\u001b[0m     \u001b[0mprint\u001b[0m\u001b[1;33m(\u001b[0m\u001b[0mx\u001b[0m\u001b[1;33m)\u001b[0m\u001b[1;33m\u001b[0m\u001b[0m\n",
      "\u001b[0;32m<ipython-input-36-e2186eea01fd>\u001b[0m in \u001b[0;36mdealCard\u001b[0;34m(self)\u001b[0m\n\u001b[1;32m    178\u001b[0m \u001b[1;33m\u001b[0m\u001b[0m\n\u001b[1;32m    179\u001b[0m         \u001b[0mfirstDelay\u001b[0m\u001b[1;33m=\u001b[0m\u001b[0mrandrange\u001b[0m\u001b[1;33m(\u001b[0m\u001b[1;36m1\u001b[0m\u001b[1;33m,\u001b[0m\u001b[1;36m10\u001b[0m\u001b[1;33m,\u001b[0m\u001b[1;36m1\u001b[0m\u001b[1;33m)\u001b[0m\u001b[1;33m\u001b[0m\u001b[0m\n\u001b[0;32m--> 180\u001b[0;31m         \u001b[0msleep\u001b[0m\u001b[1;33m(\u001b[0m\u001b[0mfirstDelay\u001b[0m\u001b[1;33m)\u001b[0m\u001b[1;33m\u001b[0m\u001b[0m\n\u001b[0m\u001b[1;32m    181\u001b[0m         \u001b[0mx\u001b[0m\u001b[1;33m=\u001b[0m\u001b[0mrandom\u001b[0m\u001b[1;33m.\u001b[0m\u001b[0mrandrange\u001b[0m\u001b[1;33m(\u001b[0m\u001b[1;36m0\u001b[0m\u001b[1;33m,\u001b[0m\u001b[1;36m51\u001b[0m\u001b[1;33m,\u001b[0m\u001b[1;36m1\u001b[0m\u001b[1;33m)\u001b[0m\u001b[1;33m\u001b[0m\u001b[0m\n\u001b[1;32m    182\u001b[0m         \u001b[1;32mwhile\u001b[0m \u001b[0mself\u001b[0m\u001b[1;33m.\u001b[0m\u001b[0mdeck\u001b[0m\u001b[1;33m[\u001b[0m\u001b[0mx\u001b[0m\u001b[1;33m]\u001b[0m\u001b[1;33m.\u001b[0m\u001b[0mgetDealt\u001b[0m\u001b[1;33m(\u001b[0m\u001b[1;33m)\u001b[0m\u001b[1;33m==\u001b[0m\u001b[1;36m1\u001b[0m\u001b[1;33m:\u001b[0m\u001b[1;33m\u001b[0m\u001b[0m\n",
      "\u001b[0;31mKeyboardInterrupt\u001b[0m: "
     ]
    }
   ],
   "source": [
    "#main\n",
    "from IPython.display import clear_output\n",
    "from random import randint\n",
    "import random\n",
    "\n",
    "clear_output()\n",
    "deck=[]\n",
    "deck=setDeckOfCards()\n",
    "dealer=Dealer(deck)\n",
    "player=Player()\n",
    "\n",
    "i=0\n",
    "\n",
    "while i<2:\n",
    "    x=dealer.dealCard()\n",
    "    y=dealer.dealCard()\n",
    "    print(x)\n",
    "    print(y)\n",
    "    #print(type(x))\n",
    "    #print(type(deck))\n",
    "    #print('Deck length is '+str(len(deck)))\n",
    "    player.addToHand(deck[x])\n",
    "    dealer.addToHand(deck[y])\n",
    "    \n",
    "    i=i+1\n",
    "\n",
    "#type(player.hand)\n",
    "for cnt in range(0,2):\n",
    "     print('Player card'+str(cnt))\n",
    "     print(player.hand[cnt].getSuite()+' '+player.hand[cnt].getCardName()+' '+str(player.hand[cnt].getCardValue())+' '+str(player.hand[cnt].getDealt()))\n",
    "     print('=Dealer card'+str(cnt))\n",
    "     if cnt==1:\n",
    "        \n",
    "        print('Second deal hand hidden')\n",
    "     else:\n",
    "        print(dealer.hand[cnt].getSuite()+' '+dealer.hand[cnt].getCardName()+' '+str(dealer.hand[cnt].getCardValue())+' '+str(dealer.hand[cnt].getDealt()))\n",
    "\n",
    "print('The Player hand value is '+str(getHandValue()))\n",
    "\n",
    "      \n",
    "      \n",
    "\n",
    "      \n",
    "\n"
   ]
  },
  {
   "cell_type": "code",
   "execution_count": 39,
   "metadata": {
    "collapsed": false
   },
   "outputs": [
    {
     "name": "stdout",
     "output_type": "stream",
     "text": [
      "48\n",
      "37\n"
     ]
    }
   ],
   "source": [
    "i=0\n",
    "while i<2:\n",
    "    import random\n",
    "    x=random.randrange(0,51,1)\n",
    "    print(x)\n",
    "    i+=1"
   ]
  },
  {
   "cell_type": "code",
   "execution_count": 6,
   "metadata": {
    "collapsed": true
   },
   "outputs": [],
   "source": [
    "hand=[]"
   ]
  },
  {
   "cell_type": "code",
   "execution_count": 7,
   "metadata": {
    "collapsed": false
   },
   "outputs": [],
   "source": [
    "card=Card(suite='Hearts',cardName='Ace',cardValue=11,dealt=0)\n"
   ]
  },
  {
   "cell_type": "code",
   "execution_count": 8,
   "metadata": {
    "collapsed": false
   },
   "outputs": [],
   "source": [
    "hand1=Hand(hand=[])\n"
   ]
  },
  {
   "cell_type": "code",
   "execution_count": 12,
   "metadata": {
    "collapsed": false
   },
   "outputs": [
    {
     "data": {
      "text/plain": [
       "[<__main__.Card at 0x246f2a48cc0>, <__main__.Card at 0x246f2a48cc0>]"
      ]
     },
     "execution_count": 12,
     "metadata": {},
     "output_type": "execute_result"
    }
   ],
   "source": [
    "hand1\n",
    "hand1.addCard(card)\n",
    "\n"
   ]
  },
  {
   "cell_type": "code",
   "execution_count": 13,
   "metadata": {
    "collapsed": false
   },
   "outputs": [],
   "source": [
    "x=hand1.getHandLength()"
   ]
  },
  {
   "cell_type": "code",
   "execution_count": 14,
   "metadata": {
    "collapsed": false
   },
   "outputs": [
    {
     "name": "stdout",
     "output_type": "stream",
     "text": [
      "2\n"
     ]
    }
   ],
   "source": [
    "print(x)"
   ]
  },
  {
   "cell_type": "code",
   "execution_count": 15,
   "metadata": {
    "collapsed": false
   },
   "outputs": [
    {
     "name": "stdout",
     "output_type": "stream",
     "text": [
      "22\n"
     ]
    }
   ],
   "source": [
    "y=hand1.getHandValue()\n",
    "print(y)\n",
    "\n",
    "      \n",
    "      "
   ]
  },
  {
   "cell_type": "raw",
   "metadata": {},
   "source": []
  },
  {
   "cell_type": "code",
   "execution_count": null,
   "metadata": {
    "collapsed": true
   },
   "outputs": [],
   "source": []
  },
  {
   "cell_type": "code",
   "execution_count": null,
   "metadata": {
    "collapsed": true
   },
   "outputs": [],
   "source": []
  },
  {
   "cell_type": "code",
   "execution_count": null,
   "metadata": {
    "collapsed": true
   },
   "outputs": [],
   "source": []
  },
  {
   "cell_type": "code",
   "execution_count": null,
   "metadata": {
    "collapsed": true
   },
   "outputs": [],
   "source": []
  },
  {
   "cell_type": "code",
   "execution_count": null,
   "metadata": {
    "collapsed": true
   },
   "outputs": [],
   "source": []
  },
  {
   "cell_type": "code",
   "execution_count": null,
   "metadata": {
    "collapsed": true
   },
   "outputs": [],
   "source": []
  }
 ],
 "metadata": {
  "anaconda-cloud": {},
  "kernelspec": {
   "display_name": "Python 3",
   "language": "python",
   "name": "python3"
  },
  "language_info": {
   "codemirror_mode": {
    "name": "ipython",
    "version": 3
   },
   "file_extension": ".py",
   "mimetype": "text/x-python",
   "name": "python",
   "nbconvert_exporter": "python",
   "pygments_lexer": "ipython3",
   "version": "3.6.0"
  }
 },
 "nbformat": 4,
 "nbformat_minor": 0
}
