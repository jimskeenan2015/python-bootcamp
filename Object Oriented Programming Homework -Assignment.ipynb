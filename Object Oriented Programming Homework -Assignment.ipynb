{
 "cells": [
  {
   "cell_type": "markdown",
   "metadata": {},
   "source": [
    "# Object Oriented Programming\n",
    "## Homework Assignment\n",
    "\n",
    "####Problem 1\n",
    "Fill in the Line class methods to accept coordinate as a pair of tuples and return the slope and distance of the line."
   ]
  },
  {
   "cell_type": "code",
   "execution_count": 34,
   "metadata": {
    "collapsed": false
   },
   "outputs": [],
   "source": [
    "class Line(object):\n",
    "    \n",
    "    def __init__(self,coor1,coor2):\n",
    "        self.b=coor1\n",
    "        self.c=coor2\n",
    "        \n",
    "    \n",
    "    def distance(self):\n",
    "        \n",
    "       # a2=b2+c2\n",
    "       a=((self.c[0]-self.b[0])**2+(self.c[1]-self.b[1])**2)**0.5\n",
    "       print(\"The Length or Distance of the line, in this case the hypotenuse is \"+str(a))\n",
    "       return a\n",
    "        \n",
    "    \n",
    "    def slope(self):\n",
    "        gradient=(self.c[1]-self.b[1])/(self.c[0]-self.b[0])\n",
    "        print(\"The Slope or Gradient is \"+str(gradient))\n",
    "        return gradient\n",
    "    \n",
    "        "
   ]
  },
  {
   "cell_type": "code",
   "execution_count": 35,
   "metadata": {
    "collapsed": false
   },
   "outputs": [
    {
     "name": "stdout",
     "output_type": "stream",
     "text": [
      "The Length or Distance of the line, in this case the hypotenuse is 9.433981132056603\n",
      "The Slope or Gradient is 1.6\n"
     ]
    },
    {
     "data": {
      "text/plain": [
       "1.6"
      ]
     },
     "execution_count": 35,
     "metadata": {},
     "output_type": "execute_result"
    }
   ],
   "source": [
    "b = (3,2)\n",
    "c = (8,10)\n",
    "Li=Line(b,c)\n",
    "Li.distance()\n",
    "Li.slope()\n"
   ]
  },
  {
   "cell_type": "code",
   "execution_count": null,
   "metadata": {
    "collapsed": false
   },
   "outputs": [],
   "source": [
    "# EXAMPLE OUTPUT\n",
    "\n",
    "coordinate1 = (3,2)\n",
    "coordinate2 = (8,10)\n",
    "\n",
    "li = Line(coordinate1,coordinate2)"
   ]
  },
  {
   "cell_type": "code",
   "execution_count": 20,
   "metadata": {
    "collapsed": false
   },
   "outputs": [
    {
     "data": {
      "text/plain": [
       "9.433981132056603"
      ]
     },
     "execution_count": 20,
     "metadata": {},
     "output_type": "execute_result"
    }
   ],
   "source": [
    "li.distance()"
   ]
  },
  {
   "cell_type": "code",
   "execution_count": 21,
   "metadata": {
    "collapsed": false
   },
   "outputs": [
    {
     "data": {
      "text/plain": [
       "1.6"
      ]
     },
     "execution_count": 21,
     "metadata": {},
     "output_type": "execute_result"
    }
   ],
   "source": [
    "li.slope()"
   ]
  },
  {
   "cell_type": "markdown",
   "metadata": {},
   "source": [
    "________\n",
    "####Problem 2"
   ]
  },
  {
   "cell_type": "markdown",
   "metadata": {},
   "source": [
    "Fill in the class "
   ]
  },
  {
   "cell_type": "code",
   "execution_count": 63,
   "metadata": {
    "collapsed": false
   },
   "outputs": [],
   "source": [
    "class Cylinder(object):\n",
    "    \n",
    "    pi=3.14\n",
    "    \n",
    "    def __init__(self,height=1,radius=1):\n",
    "        self.height=height\n",
    "        self.radius=radius\n",
    "    \n",
    "        \n",
    "    def volume(self):\n",
    "        \n",
    "    \n",
    "        # V = pi*rsquared*h\n",
    "        vol=Cylinder.pi*self.radius**2*self.height\n",
    "        print(vol)\n",
    "        return vol\n",
    "    \n",
    "    def surface_area(self):\n",
    "        surface_area=Cylinder.pi*self.radius*2*self.height\n",
    "        print(surface_area)\n",
    "        return surface_area\n",
    "        \n",
    "        \n",
    "        "
   ]
  },
  {
   "cell_type": "code",
   "execution_count": 64,
   "metadata": {
    "collapsed": true
   },
   "outputs": [],
   "source": [
    "# EXAMPLE OUTPUT\n",
    "c = Cylinder(2,3)"
   ]
  },
  {
   "cell_type": "code",
   "execution_count": 65,
   "metadata": {
    "collapsed": false
   },
   "outputs": [
    {
     "name": "stdout",
     "output_type": "stream",
     "text": [
      "56.52\n"
     ]
    },
    {
     "data": {
      "text/plain": [
       "56.52"
      ]
     },
     "execution_count": 65,
     "metadata": {},
     "output_type": "execute_result"
    }
   ],
   "source": [
    "c.volume()"
   ]
  },
  {
   "cell_type": "code",
   "execution_count": 66,
   "metadata": {
    "collapsed": false
   },
   "outputs": [
    {
     "name": "stdout",
     "output_type": "stream",
     "text": [
      "37.68\n"
     ]
    },
    {
     "data": {
      "text/plain": [
       "37.68"
      ]
     },
     "execution_count": 66,
     "metadata": {},
     "output_type": "execute_result"
    }
   ],
   "source": [
    "c.surface_area()"
   ]
  },
  {
   "cell_type": "markdown",
   "metadata": {
    "collapsed": true
   },
   "source": [
    "# Object Programming Homework - Excercise 1"
   ]
  },
  {
   "cell_type": "markdown",
   "metadata": {},
   "source": [
    "## Formula for the slope\n",
    " Given any two points on the line, its slope is given by the formula\n",
    "where:\n",
    " Ax  the x coordinate of point A\n",
    " Ay  the y coordinate of point A\n",
    " Bx  the x coordinate of point B\n",
    " By  the y coordinate of point B"
   ]
  },
  {
   "cell_type": "code",
   "execution_count": null,
   "metadata": {
    "collapsed": true
   },
   "outputs": [],
   "source": [
    "slope = Ay-By/Ax-Bx"
   ]
  },
  {
   "cell_type": "markdown",
   "metadata": {},
   "source": [
    "Volume\n",
    "\n",
    "If the cylinder has a radius r and length (height) h, then its volume is given by\n",
    "\n",
    "    V = πr2h \n",
    "\n",
    "\n",
    "\n",
    "\n",
    "Surface area\n",
    "\n",
    "Still using a radius r and length (height) h, the surface area of a cylinder is made up of three parts:\n",
    "\n",
    "    the area of the top: πr2\n",
    "    the area of the bottom: πr2\n",
    "    the area of the side: 2πrh\n",
    "\n",
    "The area of the top and bottom is always the same, and is also called the base area, B. The area of the side is also known as the lateral area, L.\n",
    "\n",
    "An open cylinder does not include either top or bottom elements, and therefore has surface area (lateral area)\n",
    "\n",
    "    L = 2πrh. \n",
    "    \n",
    "    Volume\n",
    "\n",
    "If the cylinder has a radius r and length (height) h, then its volume is given by\n",
    "\n",
    "    V = πr2h \n",
    "    "
   ]
  }
 ],
 "metadata": {
  "kernelspec": {
   "display_name": "Python 3",
   "language": "python",
   "name": "python3"
  },
  "language_info": {
   "codemirror_mode": {
    "name": "ipython",
    "version": 3
   },
   "file_extension": ".py",
   "mimetype": "text/x-python",
   "name": "python",
   "nbconvert_exporter": "python",
   "pygments_lexer": "ipython3",
   "version": "3.6.0"
  }
 },
 "nbformat": 4,
 "nbformat_minor": 0
}
