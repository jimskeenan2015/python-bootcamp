{
 "cells": [
  {
   "cell_type": "code",
   "execution_count": 1,
   "metadata": {
    "collapsed": true
   },
   "outputs": [],
   "source": [
    "from __future__ import print_function "
   ]
  },
  {
   "cell_type": "code",
   "execution_count": 2,
   "metadata": {
    "collapsed": true
   },
   "outputs": [],
   "source": [
    "def initBoard():\n",
    "    locations=[]\n",
    "    locations.clear()"
   ]
  },
  {
   "cell_type": "code",
   "execution_count": 3,
   "metadata": {
    "collapsed": true
   },
   "outputs": [],
   "source": [
    "def setGameActive():\n",
    "    gameInProgress=True\n",
    "    return gameInProgress\n",
    "\n"
   ]
  },
  {
   "cell_type": "code",
   "execution_count": 4,
   "metadata": {
    "collapsed": false
   },
   "outputs": [],
   "source": [
    "def chooseXorO():\n",
    "    XorO = input('Choose X or O')\n",
    "    print ('You chose %s \\n' % (XorO))\n",
    "    print(XorO)\n",
    "    return XorO\n"
   ]
  },
  {
   "cell_type": "code",
   "execution_count": 5,
   "metadata": {
    "collapsed": true
   },
   "outputs": [],
   "source": [
    "def printBoard():\n",
    "    \n",
    "    print('__'+str(locations[6])+'__|__'+str(locations[7])+'__|__'+str(locations[8])+'__')\n",
    "    print('__'+str(locations[3])+'__|__'+str(locations[4])+'__|__'+str(locations[5])+'__')\n",
    "    print('  '+str(locations[0])+'  |  '+str(locations[1])+'  |  '+str(locations[2])+'  ')"
   ]
  },
  {
   "cell_type": "code",
   "execution_count": 6,
   "metadata": {
    "collapsed": false
   },
   "outputs": [],
   "source": [
    "def defineLocations():\n",
    "    locations=[]\n",
    "    for i in range(0,9):\n",
    "        locations.append(i+1)\n",
    "    #    print(locations[i])\n",
    "       \n",
    "    return locations\n"
   ]
  },
  {
   "cell_type": "code",
   "execution_count": 7,
   "metadata": {
    "collapsed": false
   },
   "outputs": [],
   "source": [
    "def  selectACell():\n",
    "    selection=input('Select a Cell  1-9)')\n",
    "    return selection"
   ]
  },
  {
   "cell_type": "code",
   "execution_count": 8,
   "metadata": {
    "collapsed": true
   },
   "outputs": [],
   "source": [
    "def setCell(selectedCell,locations,player):\n",
    "    locations[int(selectedCell)-1]=player\n",
    "    return locations\n",
    "    "
   ]
  },
  {
   "cell_type": "code",
   "execution_count": 9,
   "metadata": {
    "collapsed": false
   },
   "outputs": [],
   "source": [
    "def numberOfPlayers():\n",
    "    numberOfPlayers=input('How many players?').upper()"
   ]
  },
  {
   "cell_type": "code",
   "execution_count": 10,
   "metadata": {
    "collapsed": false
   },
   "outputs": [],
   "source": [
    "def checkForWin(locations):\n",
    "    if(locations[6]==locations[7]==locations[8]): \n",
    "        print('Win')\n",
    "    elif(locations[3]==locations[4]==locations[5]):\n",
    "        print('Win')\n",
    "    elif(locations[0]==locations[1]==locations[2]):\n",
    "        print('Win')\n",
    "    elif(locations[6]==locations[4]==locations[2]):\n",
    "        print('Win')\n",
    "    elif(locations[0]==locations[4]==locations[8]):\n",
    "        print('Win')\n",
    "    elif(locations[6]==locations[3]==locations[0]):\n",
    "        print('Win')\n",
    "    elif(locations[7]==locations[4]==locations[1]):\n",
    "        print('Win')\n",
    "    elif(locations[8]==locations[5]==locations[2]):\n",
    "        print('Win')\n",
    "        return True\n",
    "        \n",
    "    else: return False\n",
    " "
   ]
  },
  {
   "cell_type": "code",
   "execution_count": 11,
   "metadata": {
    "collapsed": false
   },
   "outputs": [
    {
     "name": "stdout",
     "output_type": "stream",
     "text": [
      "Choose X or OX\n",
      "You chose X \n",
      "\n",
      "X\n",
      "Player 1=X Player2=O\n",
      "__7__|__8__|__9__\n",
      "__4__|__5__|__6__\n",
      "  1  |  2  |  3  \n",
      "Select a Cell  1-9)5\n",
      "__7__|__8__|__9__\n",
      "__4__|__X__|__6__\n",
      "  1  |  2  |  3  \n",
      "Draw\n"
     ]
    },
    {
     "ename": "NameError",
     "evalue": "name 'Print' is not defined",
     "output_type": "error",
     "traceback": [
      "\u001b[0;31m---------------------------------------------------------------------------\u001b[0m",
      "\u001b[0;31mNameError\u001b[0m                                 Traceback (most recent call last)",
      "\u001b[0;32m<ipython-input-11-1bb224373cdf>\u001b[0m in \u001b[0;36m<module>\u001b[0;34m()\u001b[0m\n\u001b[1;32m     39\u001b[0m \u001b[1;33m\u001b[0m\u001b[0m\n\u001b[1;32m     40\u001b[0m \u001b[1;33m\u001b[0m\u001b[0m\n\u001b[0;32m---> 41\u001b[0;31m \u001b[0mPrint\u001b[0m\u001b[1;33m(\u001b[0m\u001b[1;34m'Win'\u001b[0m\u001b[1;33m)\u001b[0m\u001b[1;33m\u001b[0m\u001b[0m\n\u001b[0m\u001b[1;32m     42\u001b[0m \u001b[1;33m\u001b[0m\u001b[0m\n\u001b[1;32m     43\u001b[0m \u001b[1;33m\u001b[0m\u001b[0m\n",
      "\u001b[0;31mNameError\u001b[0m: name 'Print' is not defined"
     ]
    }
   ],
   "source": [
    "#Main Program\n",
    "#setGameActive()\n",
    "playerSymbol=['','']\n",
    "playerSymbol[0]=chooseXorO()\n",
    "if playerSymbol[0]=='X':\n",
    "    playerSymbol[1]='O'\n",
    "else:\n",
    "    playerSymbol[1]='X'\n",
    "    \n",
    "print('Player 1='+playerSymbol[0]+' Player2='+playerSymbol[1])\n",
    "\n",
    "locations=defineLocations()\n",
    "printBoard()\n",
    "cell=selectACell()\n",
    "locations=setCell(cell,locations,playerSymbol[0])\n",
    "printBoard()\n",
    "counter=2\n",
    "     \n",
    "while checkForWin(locations) is False:\n",
    "   \n",
    "  \n",
    "    \n",
    "  else:  \n",
    "    if counter%2==0:\n",
    "        print('Player Two:')\n",
    "        cell=selectACell()\n",
    "        locationsl=setCell(cell,locations,playerSymbol[1])\n",
    "        printBoard()\n",
    "        counter=counter+1\n",
    "    else:\n",
    "        print('Player One')\n",
    "        cell=selectACell()\n",
    "        \n",
    "        locationsl=setCell(cell,locations,playerSymbol[0])\n",
    "        printBoard()\n",
    "        counter=counter+1\n",
    "    \n",
    "        \n",
    "Print('Win')\n",
    "\n",
    "\n",
    "    \n",
    "\n",
    "    \n",
    "    \n",
    "\n"
   ]
  },
  {
   "cell_type": "code",
   "execution_count": null,
   "metadata": {
    "collapsed": true
   },
   "outputs": [],
   "source": []
  },
  {
   "cell_type": "code",
   "execution_count": null,
   "metadata": {
    "collapsed": true
   },
   "outputs": [],
   "source": []
  }
 ],
 "metadata": {
  "anaconda-cloud": {},
  "kernelspec": {
   "display_name": "Python 3",
   "language": "python",
   "name": "python3"
  },
  "language_info": {
   "codemirror_mode": {
    "name": "ipython",
    "version": 3
   },
   "file_extension": ".py",
   "mimetype": "text/x-python",
   "name": "python",
   "nbconvert_exporter": "python",
   "pygments_lexer": "ipython3",
   "version": "3.6.0"
  }
 },
 "nbformat": 4,
 "nbformat_minor": 0
}
